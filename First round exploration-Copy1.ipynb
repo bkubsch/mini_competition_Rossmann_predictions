{
 "cells": [
  {
   "cell_type": "code",
   "execution_count": 1,
   "metadata": {},
   "outputs": [],
   "source": [
    "import pandas as pd\n",
    "import numpy as np\n",
    "import seaborn as sns\n",
    "import matplotlib\n",
    "import matplotlib.pyplot as plt\n",
    "\n",
    "sns.set(rc={'figure.figsize':(14.7,8.27)})"
   ]
  },
  {
   "cell_type": "code",
   "execution_count": 2,
   "metadata": {},
   "outputs": [],
   "source": [
    "store = pd.read_csv(\n",
    "    \"data/store.csv\"\n",
    ")\n",
    "new_train = pd.read_csv(\"data/new_train.csv\",index_col=0, dtype={\"StateHoliday\": object})\n",
    "data = store.merge(new_train,on=\"Store\")\n",
    "data[\"Date\"] = pd.to_datetime(data[\"Date\"])\n",
    "data[\"CompetitionDistance\"].fillna(-1, inplace=True)\n",
    "\n",
    "data[\"HasCompetition\"] = np.where(data[\"CompetitionOpenSinceMonth\"] >= 0, 1, 0)"
   ]
  },
  {
   "cell_type": "code",
   "execution_count": 3,
   "metadata": {},
   "outputs": [
    {
     "name": "stdout",
     "output_type": "stream",
     "text": [
      "<class 'pandas.core.frame.DataFrame'>\n",
      "Int64Index: 864627 entries, 0 to 864626\n",
      "Data columns (total 19 columns):\n",
      "Store                        864627 non-null int64\n",
      "StoreType                    864627 non-null object\n",
      "Assortment                   864627 non-null object\n",
      "CompetitionDistance          864627 non-null float64\n",
      "CompetitionOpenSinceMonth    589729 non-null float64\n",
      "CompetitionOpenSinceYear     589729 non-null float64\n",
      "Promo2                       864627 non-null int64\n",
      "Promo2SinceWeek              431040 non-null float64\n",
      "Promo2SinceYear              431040 non-null float64\n",
      "PromoInterval                431040 non-null object\n",
      "DayOfWeek                    864627 non-null int64\n",
      "Date                         864627 non-null datetime64[ns]\n",
      "Sales                        864627 non-null int64\n",
      "Customers                    864627 non-null int64\n",
      "Open                         864627 non-null int64\n",
      "Promo                        864627 non-null int64\n",
      "StateHoliday                 864627 non-null object\n",
      "SchoolHoliday                864627 non-null int64\n",
      "HasCompetition               864627 non-null int64\n",
      "dtypes: datetime64[ns](1), float64(5), int64(9), object(4)\n",
      "memory usage: 131.9+ MB\n"
     ]
    }
   ],
   "source": [
    "data.info()"
   ]
  },
  {
   "cell_type": "code",
   "execution_count": null,
   "metadata": {},
   "outputs": [],
   "source": []
  },
  {
   "cell_type": "code",
   "execution_count": 4,
   "metadata": {},
   "outputs": [],
   "source": [
    "int_cols = [\"CompetitionOpenSinceYear\", \"CompetitionOpenSinceMonth\", \"Promo2SinceYear\",\n",
    "            \"Promo2SinceWeek\", \n",
    "           ]\n",
    "data[int_cols] = data[int_cols].fillna(-1)\n",
    "data[int_cols] = data[int_cols].astype(int)"
   ]
  },
  {
   "cell_type": "code",
   "execution_count": 5,
   "metadata": {},
   "outputs": [
    {
     "data": {
      "text/html": [
       "<div>\n",
       "<style scoped>\n",
       "    .dataframe tbody tr th:only-of-type {\n",
       "        vertical-align: middle;\n",
       "    }\n",
       "\n",
       "    .dataframe tbody tr th {\n",
       "        vertical-align: top;\n",
       "    }\n",
       "\n",
       "    .dataframe thead th {\n",
       "        text-align: right;\n",
       "    }\n",
       "</style>\n",
       "<table border=\"1\" class=\"dataframe\">\n",
       "  <thead>\n",
       "    <tr style=\"text-align: right;\">\n",
       "      <th></th>\n",
       "      <th>CompetitionDistance</th>\n",
       "      <th>CompetitionOpenSinceMonth</th>\n",
       "      <th>CompetitionOpenSinceYear</th>\n",
       "      <th>Promo2</th>\n",
       "      <th>Promo2SinceWeek</th>\n",
       "      <th>Promo2SinceYear</th>\n",
       "      <th>DayOfWeek</th>\n",
       "      <th>Sales</th>\n",
       "      <th>Customers</th>\n",
       "      <th>Open</th>\n",
       "      <th>Promo</th>\n",
       "      <th>SchoolHoliday</th>\n",
       "      <th>HasCompetition</th>\n",
       "    </tr>\n",
       "    <tr>\n",
       "      <th>Store</th>\n",
       "      <th></th>\n",
       "      <th></th>\n",
       "      <th></th>\n",
       "      <th></th>\n",
       "      <th></th>\n",
       "      <th></th>\n",
       "      <th></th>\n",
       "      <th></th>\n",
       "      <th></th>\n",
       "      <th></th>\n",
       "      <th></th>\n",
       "      <th></th>\n",
       "      <th></th>\n",
       "    </tr>\n",
       "  </thead>\n",
       "  <tbody>\n",
       "    <tr>\n",
       "      <th>262</th>\n",
       "      <td>1180.0</td>\n",
       "      <td>5.0</td>\n",
       "      <td>2013.0</td>\n",
       "      <td>0.0</td>\n",
       "      <td>-1.0</td>\n",
       "      <td>-1.0</td>\n",
       "      <td>4.0</td>\n",
       "      <td>20771.417391</td>\n",
       "      <td>3407.146584</td>\n",
       "      <td>1.000000</td>\n",
       "      <td>0.378882</td>\n",
       "      <td>0.182609</td>\n",
       "      <td>1.0</td>\n",
       "    </tr>\n",
       "    <tr>\n",
       "      <th>562</th>\n",
       "      <td>1210.0</td>\n",
       "      <td>-1.0</td>\n",
       "      <td>-1.0</td>\n",
       "      <td>0.0</td>\n",
       "      <td>-1.0</td>\n",
       "      <td>-1.0</td>\n",
       "      <td>4.0</td>\n",
       "      <td>18006.562733</td>\n",
       "      <td>3104.188820</td>\n",
       "      <td>1.000000</td>\n",
       "      <td>0.378882</td>\n",
       "      <td>0.233540</td>\n",
       "      <td>0.0</td>\n",
       "    </tr>\n",
       "    <tr>\n",
       "      <th>817</th>\n",
       "      <td>140.0</td>\n",
       "      <td>3.0</td>\n",
       "      <td>2006.0</td>\n",
       "      <td>0.0</td>\n",
       "      <td>-1.0</td>\n",
       "      <td>-1.0</td>\n",
       "      <td>4.0</td>\n",
       "      <td>17789.629814</td>\n",
       "      <td>2557.583851</td>\n",
       "      <td>0.833540</td>\n",
       "      <td>0.378882</td>\n",
       "      <td>0.190062</td>\n",
       "      <td>1.0</td>\n",
       "    </tr>\n",
       "    <tr>\n",
       "      <th>1114</th>\n",
       "      <td>870.0</td>\n",
       "      <td>-1.0</td>\n",
       "      <td>-1.0</td>\n",
       "      <td>0.0</td>\n",
       "      <td>-1.0</td>\n",
       "      <td>-1.0</td>\n",
       "      <td>4.0</td>\n",
       "      <td>17394.627329</td>\n",
       "      <td>2695.827329</td>\n",
       "      <td>0.833540</td>\n",
       "      <td>0.378882</td>\n",
       "      <td>0.182609</td>\n",
       "      <td>0.0</td>\n",
       "    </tr>\n",
       "    <tr>\n",
       "      <th>251</th>\n",
       "      <td>340.0</td>\n",
       "      <td>-1.0</td>\n",
       "      <td>-1.0</td>\n",
       "      <td>0.0</td>\n",
       "      <td>-1.0</td>\n",
       "      <td>-1.0</td>\n",
       "      <td>4.0</td>\n",
       "      <td>15797.045963</td>\n",
       "      <td>2031.773913</td>\n",
       "      <td>0.827329</td>\n",
       "      <td>0.378882</td>\n",
       "      <td>0.193789</td>\n",
       "      <td>0.0</td>\n",
       "    </tr>\n",
       "  </tbody>\n",
       "</table>\n",
       "</div>"
      ],
      "text/plain": [
       "       CompetitionDistance  CompetitionOpenSinceMonth  \\\n",
       "Store                                                   \n",
       "262                 1180.0                        5.0   \n",
       "562                 1210.0                       -1.0   \n",
       "817                  140.0                        3.0   \n",
       "1114                 870.0                       -1.0   \n",
       "251                  340.0                       -1.0   \n",
       "\n",
       "       CompetitionOpenSinceYear  Promo2  Promo2SinceWeek  Promo2SinceYear  \\\n",
       "Store                                                                       \n",
       "262                      2013.0     0.0             -1.0             -1.0   \n",
       "562                        -1.0     0.0             -1.0             -1.0   \n",
       "817                      2006.0     0.0             -1.0             -1.0   \n",
       "1114                       -1.0     0.0             -1.0             -1.0   \n",
       "251                        -1.0     0.0             -1.0             -1.0   \n",
       "\n",
       "       DayOfWeek         Sales    Customers      Open     Promo  \\\n",
       "Store                                                             \n",
       "262          4.0  20771.417391  3407.146584  1.000000  0.378882   \n",
       "562          4.0  18006.562733  3104.188820  1.000000  0.378882   \n",
       "817          4.0  17789.629814  2557.583851  0.833540  0.378882   \n",
       "1114         4.0  17394.627329  2695.827329  0.833540  0.378882   \n",
       "251          4.0  15797.045963  2031.773913  0.827329  0.378882   \n",
       "\n",
       "       SchoolHoliday  HasCompetition  \n",
       "Store                                 \n",
       "262         0.182609             1.0  \n",
       "562         0.233540             0.0  \n",
       "817         0.190062             1.0  \n",
       "1114        0.182609             0.0  \n",
       "251         0.193789             0.0  "
      ]
     },
     "execution_count": 5,
     "metadata": {},
     "output_type": "execute_result"
    }
   ],
   "source": [
    "data.groupby(\"Store\").mean().sort_values(by=\"Sales\", ascending=False).head()\n",
    "\n",
    "# Open/Closed -> high\n",
    "# DayOfWeek -> medium\n",
    "# Holiday -> medium\n",
    "# Store -> high"
   ]
  },
  {
   "cell_type": "code",
   "execution_count": 6,
   "metadata": {},
   "outputs": [
    {
     "name": "stdout",
     "output_type": "stream",
     "text": [
      "<class 'pandas.core.frame.DataFrame'>\n",
      "Int64Index: 864627 entries, 0 to 864626\n",
      "Data columns (total 29 columns):\n",
      "Store                             864627 non-null int64\n",
      "CompetitionDistance               864627 non-null float64\n",
      "CompetitionOpenSinceMonth         864627 non-null int64\n",
      "CompetitionOpenSinceYear          864627 non-null int64\n",
      "Promo2                            864627 non-null int64\n",
      "Promo2SinceWeek                   864627 non-null int64\n",
      "Promo2SinceYear                   864627 non-null int64\n",
      "DayOfWeek                         864627 non-null int64\n",
      "Date                              864627 non-null datetime64[ns]\n",
      "Sales                             864627 non-null int64\n",
      "Customers                         864627 non-null int64\n",
      "Open                              864627 non-null int64\n",
      "Promo                             864627 non-null int64\n",
      "SchoolHoliday                     864627 non-null int64\n",
      "HasCompetition                    864627 non-null int64\n",
      "StoreType_a                       864627 non-null uint8\n",
      "StoreType_b                       864627 non-null uint8\n",
      "StoreType_c                       864627 non-null uint8\n",
      "StoreType_d                       864627 non-null uint8\n",
      "Assortment_a                      864627 non-null uint8\n",
      "Assortment_b                      864627 non-null uint8\n",
      "Assortment_c                      864627 non-null uint8\n",
      "PromoInterval_Feb,May,Aug,Nov     864627 non-null uint8\n",
      "PromoInterval_Jan,Apr,Jul,Oct     864627 non-null uint8\n",
      "PromoInterval_Mar,Jun,Sept,Dec    864627 non-null uint8\n",
      "StateHoliday_0                    864627 non-null uint8\n",
      "StateHoliday_a                    864627 non-null uint8\n",
      "StateHoliday_b                    864627 non-null uint8\n",
      "StateHoliday_c                    864627 non-null uint8\n",
      "dtypes: datetime64[ns](1), float64(1), int64(13), uint8(14)\n",
      "memory usage: 117.1 MB\n"
     ]
    }
   ],
   "source": [
    "from sklearn.model_selection import train_test_split\n",
    "\n",
    "data = pd.get_dummies(data)\n",
    "\n",
    "X=data.drop([\"Sales\",\"Date\"], axis=1)\n",
    "y=data[\"Sales\"]\n",
    "X_train, X_test, y_train, y_test = train_test_split(X, y, test_size=0.3) # 70% training and 30% test\n",
    "\n",
    "data.info()"
   ]
  },
  {
   "cell_type": "code",
   "execution_count": 7,
   "metadata": {},
   "outputs": [],
   "source": [
    "from sklearn.tree import DecisionTreeClassifier"
   ]
  },
  {
   "cell_type": "code",
   "execution_count": 8,
   "metadata": {},
   "outputs": [],
   "source": [
    "dtree = DecisionTreeClassifier()"
   ]
  },
  {
   "cell_type": "code",
   "execution_count": 9,
   "metadata": {},
   "outputs": [
    {
     "ename": "MemoryError",
     "evalue": "could not allocate 20989345792 bytes",
     "output_type": "error",
     "traceback": [
      "\u001b[0;31m---------------------------------------------------------------------------\u001b[0m",
      "\u001b[0;31mMemoryError\u001b[0m                               Traceback (most recent call last)",
      "\u001b[0;32m<ipython-input-9-16b736c34381>\u001b[0m in \u001b[0;36m<module>\u001b[0;34m\u001b[0m\n\u001b[0;32m----> 1\u001b[0;31m \u001b[0mdtree\u001b[0m\u001b[0;34m.\u001b[0m\u001b[0mfit\u001b[0m\u001b[0;34m(\u001b[0m\u001b[0mX_train\u001b[0m\u001b[0;34m,\u001b[0m \u001b[0my_train\u001b[0m\u001b[0;34m)\u001b[0m\u001b[0;34m\u001b[0m\u001b[0;34m\u001b[0m\u001b[0m\n\u001b[0m",
      "\u001b[0;32m~/anaconda3/lib/python3.7/site-packages/sklearn/tree/tree.py\u001b[0m in \u001b[0;36mfit\u001b[0;34m(self, X, y, sample_weight, check_input, X_idx_sorted)\u001b[0m\n\u001b[1;32m    799\u001b[0m             \u001b[0msample_weight\u001b[0m\u001b[0;34m=\u001b[0m\u001b[0msample_weight\u001b[0m\u001b[0;34m,\u001b[0m\u001b[0;34m\u001b[0m\u001b[0;34m\u001b[0m\u001b[0m\n\u001b[1;32m    800\u001b[0m             \u001b[0mcheck_input\u001b[0m\u001b[0;34m=\u001b[0m\u001b[0mcheck_input\u001b[0m\u001b[0;34m,\u001b[0m\u001b[0;34m\u001b[0m\u001b[0;34m\u001b[0m\u001b[0m\n\u001b[0;32m--> 801\u001b[0;31m             X_idx_sorted=X_idx_sorted)\n\u001b[0m\u001b[1;32m    802\u001b[0m         \u001b[0;32mreturn\u001b[0m \u001b[0mself\u001b[0m\u001b[0;34m\u001b[0m\u001b[0;34m\u001b[0m\u001b[0m\n\u001b[1;32m    803\u001b[0m \u001b[0;34m\u001b[0m\u001b[0m\n",
      "\u001b[0;32m~/anaconda3/lib/python3.7/site-packages/sklearn/tree/tree.py\u001b[0m in \u001b[0;36mfit\u001b[0;34m(self, X, y, sample_weight, check_input, X_idx_sorted)\u001b[0m\n\u001b[1;32m    364\u001b[0m                                            min_impurity_split)\n\u001b[1;32m    365\u001b[0m \u001b[0;34m\u001b[0m\u001b[0m\n\u001b[0;32m--> 366\u001b[0;31m         \u001b[0mbuilder\u001b[0m\u001b[0;34m.\u001b[0m\u001b[0mbuild\u001b[0m\u001b[0;34m(\u001b[0m\u001b[0mself\u001b[0m\u001b[0;34m.\u001b[0m\u001b[0mtree_\u001b[0m\u001b[0;34m,\u001b[0m \u001b[0mX\u001b[0m\u001b[0;34m,\u001b[0m \u001b[0my\u001b[0m\u001b[0;34m,\u001b[0m \u001b[0msample_weight\u001b[0m\u001b[0;34m,\u001b[0m \u001b[0mX_idx_sorted\u001b[0m\u001b[0;34m)\u001b[0m\u001b[0;34m\u001b[0m\u001b[0;34m\u001b[0m\u001b[0m\n\u001b[0m\u001b[1;32m    367\u001b[0m \u001b[0;34m\u001b[0m\u001b[0m\n\u001b[1;32m    368\u001b[0m         \u001b[0;32mif\u001b[0m \u001b[0mself\u001b[0m\u001b[0;34m.\u001b[0m\u001b[0mn_outputs_\u001b[0m \u001b[0;34m==\u001b[0m \u001b[0;36m1\u001b[0m\u001b[0;34m:\u001b[0m\u001b[0;34m\u001b[0m\u001b[0;34m\u001b[0m\u001b[0m\n",
      "\u001b[0;32msklearn/tree/_tree.pyx\u001b[0m in \u001b[0;36msklearn.tree._tree.DepthFirstTreeBuilder.build\u001b[0;34m()\u001b[0m\n",
      "\u001b[0;32msklearn/tree/_tree.pyx\u001b[0m in \u001b[0;36msklearn.tree._tree.DepthFirstTreeBuilder.build\u001b[0;34m()\u001b[0m\n",
      "\u001b[0;32msklearn/tree/_tree.pyx\u001b[0m in \u001b[0;36msklearn.tree._tree.Tree._add_node\u001b[0;34m()\u001b[0m\n",
      "\u001b[0;32msklearn/tree/_tree.pyx\u001b[0m in \u001b[0;36msklearn.tree._tree.Tree._resize_c\u001b[0;34m()\u001b[0m\n",
      "\u001b[0;32msklearn/tree/_utils.pyx\u001b[0m in \u001b[0;36msklearn.tree._utils.safe_realloc\u001b[0;34m()\u001b[0m\n",
      "\u001b[0;31mMemoryError\u001b[0m: could not allocate 20989345792 bytes"
     ]
    }
   ],
   "source": [
    "dtree.fit(X_train, y_train)"
   ]
  },
  {
   "cell_type": "code",
   "execution_count": 10,
   "metadata": {},
   "outputs": [
    {
     "data": {
      "text/plain": [
       "Store                             False\n",
       "CompetitionDistance               False\n",
       "CompetitionOpenSinceMonth         False\n",
       "CompetitionOpenSinceYear          False\n",
       "Promo2                            False\n",
       "Promo2SinceWeek                   False\n",
       "Promo2SinceYear                   False\n",
       "DayOfWeek                         False\n",
       "Date                              False\n",
       "Sales                             False\n",
       "Customers                         False\n",
       "Open                              False\n",
       "Promo                             False\n",
       "SchoolHoliday                     False\n",
       "HasCompetition                    False\n",
       "StoreType_a                       False\n",
       "StoreType_b                       False\n",
       "StoreType_c                       False\n",
       "StoreType_d                       False\n",
       "Assortment_a                      False\n",
       "Assortment_b                      False\n",
       "Assortment_c                      False\n",
       "PromoInterval_Feb,May,Aug,Nov     False\n",
       "PromoInterval_Jan,Apr,Jul,Oct     False\n",
       "PromoInterval_Mar,Jun,Sept,Dec    False\n",
       "StateHoliday_0                    False\n",
       "StateHoliday_a                    False\n",
       "StateHoliday_b                    False\n",
       "StateHoliday_c                    False\n",
       "dtype: bool"
      ]
     },
     "execution_count": 10,
     "metadata": {},
     "output_type": "execute_result"
    }
   ],
   "source": [
    "data.isna().any()"
   ]
  },
  {
   "cell_type": "code",
   "execution_count": 11,
   "metadata": {},
   "outputs": [
    {
     "data": {
      "text/plain": [
       "(864627, 29)"
      ]
     },
     "execution_count": 11,
     "metadata": {},
     "output_type": "execute_result"
    }
   ],
   "source": [
    "data.shape"
   ]
  },
  {
   "cell_type": "code",
   "execution_count": 12,
   "metadata": {},
   "outputs": [],
   "source": [
    "data_samp = data.sample(frac=0.01)"
   ]
  },
  {
   "cell_type": "code",
   "execution_count": 15,
   "metadata": {},
   "outputs": [
    {
     "data": {
      "text/plain": [
       "(8646, 29)"
      ]
     },
     "execution_count": 15,
     "metadata": {},
     "output_type": "execute_result"
    }
   ],
   "source": [
    "data_samp.shape"
   ]
  },
  {
   "cell_type": "code",
   "execution_count": 20,
   "metadata": {},
   "outputs": [
    {
     "name": "stdout",
     "output_type": "stream",
     "text": [
      "2013-05-17 00:00:00\n",
      "2015-07-31 00:00:00\n",
      "2013-05-17 00:00:00\n",
      "2015-07-31 00:00:00\n"
     ]
    }
   ],
   "source": [
    "print(data_samp[\"Date\"].min())\n",
    "print(data_samp[\"Date\"].max())\n",
    "print(data[\"Date\"].min())\n",
    "print(data[\"Date\"].max())\n"
   ]
  },
  {
   "cell_type": "code",
   "execution_count": 22,
   "metadata": {},
   "outputs": [
    {
     "data": {
      "text/plain": [
       "0        2015-07-31\n",
       "1        2015-07-30\n",
       "2        2015-07-29\n",
       "3        2015-07-28\n",
       "4        2015-07-27\n",
       "5        2015-07-26\n",
       "6        2015-07-25\n",
       "7        2015-07-24\n",
       "8        2015-07-23\n",
       "9        2015-07-22\n",
       "10       2015-07-21\n",
       "11       2015-07-20\n",
       "12       2015-07-19\n",
       "13       2015-07-18\n",
       "14       2015-07-17\n",
       "15       2015-07-16\n",
       "16       2015-07-15\n",
       "17       2015-07-14\n",
       "18       2015-07-13\n",
       "19       2015-07-12\n",
       "20       2015-07-11\n",
       "21       2015-07-10\n",
       "22       2015-07-09\n",
       "23       2015-07-08\n",
       "24       2015-07-07\n",
       "25       2015-07-06\n",
       "26       2015-07-05\n",
       "27       2015-07-04\n",
       "28       2015-07-03\n",
       "29       2015-07-02\n",
       "            ...    \n",
       "864597   2013-06-16\n",
       "864598   2013-06-15\n",
       "864599   2013-06-14\n",
       "864600   2013-06-13\n",
       "864601   2013-06-12\n",
       "864602   2013-06-11\n",
       "864603   2013-06-10\n",
       "864604   2013-06-09\n",
       "864605   2013-06-08\n",
       "864606   2013-06-07\n",
       "864607   2013-06-06\n",
       "864608   2013-06-05\n",
       "864609   2013-06-04\n",
       "864610   2013-06-03\n",
       "864611   2013-06-02\n",
       "864612   2013-06-01\n",
       "864613   2013-05-31\n",
       "864614   2013-05-30\n",
       "864615   2013-05-29\n",
       "864616   2013-05-28\n",
       "864617   2013-05-27\n",
       "864618   2013-05-26\n",
       "864619   2013-05-25\n",
       "864620   2013-05-24\n",
       "864621   2013-05-23\n",
       "864622   2013-05-22\n",
       "864623   2013-05-21\n",
       "864624   2013-05-20\n",
       "864625   2013-05-19\n",
       "864626   2013-05-18\n",
       "Name: Date, Length: 864627, dtype: datetime64[ns]"
      ]
     },
     "execution_count": 22,
     "metadata": {},
     "output_type": "execute_result"
    }
   ],
   "source": [
    "data[\"Date\"]"
   ]
  },
  {
   "cell_type": "code",
   "execution_count": 43,
   "metadata": {},
   "outputs": [],
   "source": [
    "WorkHol = data.loc[(data[\"Date\"].dt.month == 5) & (data[\"Date\"]\\\n",
    "        .dt.day == 1),:].drop_duplicates(\"Store\").reset_index(drop=True)"
   ]
  },
  {
   "cell_type": "code",
   "execution_count": 49,
   "metadata": {},
   "outputs": [
    {
     "data": {
      "text/plain": [
       "3"
      ]
     },
     "execution_count": 49,
     "metadata": {},
     "output_type": "execute_result"
    }
   ],
   "source": [
    "MayDay = data.loc[(data[\"Date\"].dt.month == 1) & (data[\"Date\"].dt.day == 1),:]\n",
    "\n",
    "NewYear = data.loc[(data[\"Date\"].dt.month == 1) & (data[\"Date\"].dt.day == 1),:]\n",
    "\n",
    "Germany = data.loc[(data[\"Date\"].dt.month == 10) & (data[\"Date\"].dt.day == 3),:]\n",
    "\n",
    "Bulgaria = data.loc[(data[\"Date\"].dt.month == 9) & (data[\"Date\"].dt.day == 23),:]\n",
    "\n",
    "MD = data.loc[(data[\"Date\"].dt.month == 1) & (data[\"Date\"].dt.day == 8),:]\n",
    "\n",
    "Romania = data.loc[(data[\"Date\"].dt.month == 1) & (data[\"Date\"].dt.day == 24),:]\n",
    "\n",
    "Estland = data.loc[(data[\"Date\"].dt.month == 2) & (data[\"Date\"].dt.day == 24),:]\n",
    "\n",
    "Finland = data.loc[(data[\"Date\"].dt.month == 2) & (data[\"Date\"].dt.day == 2),:]\n",
    "\n",
    "SRB = data.loc[(data[\"Date\"].dt.month == 2) & (data[\"Date\"].dt.day == 15),:]\n",
    "\n",
    "AND = data.loc[(data[\"Date\"].dt.month == 3) & (data[\"Date\"].dt.day == 14),:]\n",
    "\n",
    "BIH = data.loc[(data[\"Date\"].dt.month == 3) & (data[\"Date\"].dt.day == 1),:]\n",
    "\n",
    "GB = data.loc[(data[\"Date\"].dt.month == 3) & (data[\"Date\"].dt.day == 18),:]\n",
    "\n",
    "GR = data.loc[(data[\"Date\"].dt.month == 25) & (data[\"Date\"].dt.day == 2),:]\n",
    "\n",
    "Berlin = data.loc[(data[\"Date\"].dt.month == 3) & (data[\"Date\"].dt.day == 8),:]\n",
    "\n",
    "Thueringen = data.loc[(data[\"Date\"].dt.month == 9) & (data[\"Date\"].dt.day == 20),:]\n",
    "\n",
    "SouthGermany = data.loc[(data[\"Date\"].dt.month == 11) & (data[\"Date\"].dt.day == 1),:]\n",
    "\n",
    "NorthGermany = data.loc[(data[\"Date\"].dt.month == 10) & (data[\"Date\"].dt.day == 31),:]\n",
    "\n",
    "1+2"
   ]
  },
  {
   "cell_type": "code",
   "execution_count": 51,
   "metadata": {},
   "outputs": [
    {
     "ename": "ValueError",
     "evalue": "Cannot index with multidimensional key",
     "output_type": "error",
     "traceback": [
      "\u001b[0;31m---------------------------------------------------------------------------\u001b[0m",
      "\u001b[0;31mValueError\u001b[0m                                Traceback (most recent call last)",
      "\u001b[0;32m<ipython-input-51-999106e6a0ad>\u001b[0m in \u001b[0;36m<module>\u001b[0;34m\u001b[0m\n\u001b[0;32m----> 1\u001b[0;31m \u001b[0mdata\u001b[0m\u001b[0;34m.\u001b[0m\u001b[0mloc\u001b[0m\u001b[0;34m[\u001b[0m\u001b[0mdata\u001b[0m\u001b[0;34m.\u001b[0m\u001b[0mloc\u001b[0m\u001b[0;34m[\u001b[0m\u001b[0;34m(\u001b[0m\u001b[0mdata\u001b[0m\u001b[0;34m[\u001b[0m\u001b[0;34m\"Date\"\u001b[0m\u001b[0;34m]\u001b[0m\u001b[0;34m.\u001b[0m\u001b[0mdt\u001b[0m\u001b[0;34m.\u001b[0m\u001b[0mmonth\u001b[0m \u001b[0;34m==\u001b[0m \u001b[0;36m10\u001b[0m\u001b[0;34m)\u001b[0m \u001b[0;34m&\u001b[0m \u001b[0;34m(\u001b[0m\u001b[0mdata\u001b[0m\u001b[0;34m[\u001b[0m\u001b[0;34m\"Date\"\u001b[0m\u001b[0;34m]\u001b[0m\u001b[0;34m.\u001b[0m\u001b[0mdt\u001b[0m\u001b[0;34m.\u001b[0m\u001b[0mday\u001b[0m \u001b[0;34m==\u001b[0m \u001b[0;36m3\u001b[0m\u001b[0;34m)\u001b[0m\u001b[0;34m,\u001b[0m\u001b[0;34m:\u001b[0m\u001b[0;34m]\u001b[0m\u001b[0;34m,\u001b[0m\u001b[0;34m:\u001b[0m\u001b[0;34m]\u001b[0m\u001b[0;34m\u001b[0m\u001b[0;34m\u001b[0m\u001b[0m\n\u001b[0m",
      "\u001b[0;32m~/anaconda3/lib/python3.7/site-packages/pandas/core/indexing.py\u001b[0m in \u001b[0;36m__getitem__\u001b[0;34m(self, key)\u001b[0m\n\u001b[1;32m   1470\u001b[0m             \u001b[0;32mexcept\u001b[0m \u001b[0;34m(\u001b[0m\u001b[0mKeyError\u001b[0m\u001b[0;34m,\u001b[0m \u001b[0mIndexError\u001b[0m\u001b[0;34m)\u001b[0m\u001b[0;34m:\u001b[0m\u001b[0;34m\u001b[0m\u001b[0;34m\u001b[0m\u001b[0m\n\u001b[1;32m   1471\u001b[0m                 \u001b[0;32mpass\u001b[0m\u001b[0;34m\u001b[0m\u001b[0;34m\u001b[0m\u001b[0m\n\u001b[0;32m-> 1472\u001b[0;31m             \u001b[0;32mreturn\u001b[0m \u001b[0mself\u001b[0m\u001b[0;34m.\u001b[0m\u001b[0m_getitem_tuple\u001b[0m\u001b[0;34m(\u001b[0m\u001b[0mkey\u001b[0m\u001b[0;34m)\u001b[0m\u001b[0;34m\u001b[0m\u001b[0;34m\u001b[0m\u001b[0m\n\u001b[0m\u001b[1;32m   1473\u001b[0m         \u001b[0;32melse\u001b[0m\u001b[0;34m:\u001b[0m\u001b[0;34m\u001b[0m\u001b[0;34m\u001b[0m\u001b[0m\n\u001b[1;32m   1474\u001b[0m             \u001b[0;31m# we by definition only have the 0th axis\u001b[0m\u001b[0;34m\u001b[0m\u001b[0;34m\u001b[0m\u001b[0;34m\u001b[0m\u001b[0m\n",
      "\u001b[0;32m~/anaconda3/lib/python3.7/site-packages/pandas/core/indexing.py\u001b[0m in \u001b[0;36m_getitem_tuple\u001b[0;34m(self, tup)\u001b[0m\n\u001b[1;32m    888\u001b[0m                 \u001b[0;32mcontinue\u001b[0m\u001b[0;34m\u001b[0m\u001b[0;34m\u001b[0m\u001b[0m\n\u001b[1;32m    889\u001b[0m \u001b[0;34m\u001b[0m\u001b[0m\n\u001b[0;32m--> 890\u001b[0;31m             \u001b[0mretval\u001b[0m \u001b[0;34m=\u001b[0m \u001b[0mgetattr\u001b[0m\u001b[0;34m(\u001b[0m\u001b[0mretval\u001b[0m\u001b[0;34m,\u001b[0m \u001b[0mself\u001b[0m\u001b[0;34m.\u001b[0m\u001b[0mname\u001b[0m\u001b[0;34m)\u001b[0m\u001b[0;34m.\u001b[0m\u001b[0m_getitem_axis\u001b[0m\u001b[0;34m(\u001b[0m\u001b[0mkey\u001b[0m\u001b[0;34m,\u001b[0m \u001b[0maxis\u001b[0m\u001b[0;34m=\u001b[0m\u001b[0mi\u001b[0m\u001b[0;34m)\u001b[0m\u001b[0;34m\u001b[0m\u001b[0;34m\u001b[0m\u001b[0m\n\u001b[0m\u001b[1;32m    891\u001b[0m \u001b[0;34m\u001b[0m\u001b[0m\n\u001b[1;32m    892\u001b[0m         \u001b[0;32mreturn\u001b[0m \u001b[0mretval\u001b[0m\u001b[0;34m\u001b[0m\u001b[0;34m\u001b[0m\u001b[0m\n",
      "\u001b[0;32m~/anaconda3/lib/python3.7/site-packages/pandas/core/indexing.py\u001b[0m in \u001b[0;36m_getitem_axis\u001b[0;34m(self, key, axis)\u001b[0m\n\u001b[1;32m   1897\u001b[0m \u001b[0;34m\u001b[0m\u001b[0m\n\u001b[1;32m   1898\u001b[0m                 \u001b[0;32mif\u001b[0m \u001b[0mhasattr\u001b[0m\u001b[0;34m(\u001b[0m\u001b[0mkey\u001b[0m\u001b[0;34m,\u001b[0m \u001b[0;34m'ndim'\u001b[0m\u001b[0;34m)\u001b[0m \u001b[0;32mand\u001b[0m \u001b[0mkey\u001b[0m\u001b[0;34m.\u001b[0m\u001b[0mndim\u001b[0m \u001b[0;34m>\u001b[0m \u001b[0;36m1\u001b[0m\u001b[0;34m:\u001b[0m\u001b[0;34m\u001b[0m\u001b[0;34m\u001b[0m\u001b[0m\n\u001b[0;32m-> 1899\u001b[0;31m                     \u001b[0;32mraise\u001b[0m \u001b[0mValueError\u001b[0m\u001b[0;34m(\u001b[0m\u001b[0;34m'Cannot index with multidimensional key'\u001b[0m\u001b[0;34m)\u001b[0m\u001b[0;34m\u001b[0m\u001b[0;34m\u001b[0m\u001b[0m\n\u001b[0m\u001b[1;32m   1900\u001b[0m \u001b[0;34m\u001b[0m\u001b[0m\n\u001b[1;32m   1901\u001b[0m                 \u001b[0;32mreturn\u001b[0m \u001b[0mself\u001b[0m\u001b[0;34m.\u001b[0m\u001b[0m_getitem_iterable\u001b[0m\u001b[0;34m(\u001b[0m\u001b[0mkey\u001b[0m\u001b[0;34m,\u001b[0m \u001b[0maxis\u001b[0m\u001b[0;34m=\u001b[0m\u001b[0maxis\u001b[0m\u001b[0;34m)\u001b[0m\u001b[0;34m\u001b[0m\u001b[0;34m\u001b[0m\u001b[0m\n",
      "\u001b[0;31mValueError\u001b[0m: Cannot index with multidimensional key"
     ]
    }
   ],
   "source": []
  },
  {
   "cell_type": "code",
   "execution_count": 46,
   "metadata": {},
   "outputs": [
    {
     "data": {
      "text/plain": [
       "0         1\n",
       "1         1\n",
       "2         1\n",
       "3         1\n",
       "4         1\n",
       "5         1\n",
       "6         1\n",
       "7         1\n",
       "8         1\n",
       "9         1\n",
       "10        1\n",
       "11        1\n",
       "12        1\n",
       "13        1\n",
       "14        1\n",
       "15        1\n",
       "16        1\n",
       "17        1\n",
       "18        1\n",
       "19        1\n",
       "20        1\n",
       "21        1\n",
       "22        1\n",
       "23        1\n",
       "24        1\n",
       "25        1\n",
       "26        1\n",
       "27        1\n",
       "28        1\n",
       "29        1\n",
       "         ..\n",
       "864597    1\n",
       "864598    1\n",
       "864599    1\n",
       "864600    1\n",
       "864601    1\n",
       "864602    1\n",
       "864603    1\n",
       "864604    1\n",
       "864605    1\n",
       "864606    1\n",
       "864607    1\n",
       "864608    1\n",
       "864609    1\n",
       "864610    1\n",
       "864611    1\n",
       "864612    1\n",
       "864613    1\n",
       "864614    0\n",
       "864615    1\n",
       "864616    1\n",
       "864617    1\n",
       "864618    1\n",
       "864619    1\n",
       "864620    1\n",
       "864621    1\n",
       "864622    1\n",
       "864623    1\n",
       "864624    0\n",
       "864625    1\n",
       "864626    1\n",
       "Name: StateHoliday_0, Length: 864627, dtype: uint8"
      ]
     },
     "execution_count": 46,
     "metadata": {},
     "output_type": "execute_result"
    }
   ],
   "source": []
  },
  {
   "cell_type": "code",
   "execution_count": null,
   "metadata": {},
   "outputs": [],
   "source": []
  }
 ],
 "metadata": {
  "kernelspec": {
   "display_name": "Python 3",
   "language": "python",
   "name": "python3"
  },
  "language_info": {
   "codemirror_mode": {
    "name": "ipython",
    "version": 3
   },
   "file_extension": ".py",
   "mimetype": "text/x-python",
   "name": "python",
   "nbconvert_exporter": "python",
   "pygments_lexer": "ipython3",
   "version": "3.7.1"
  }
 },
 "nbformat": 4,
 "nbformat_minor": 2
}
