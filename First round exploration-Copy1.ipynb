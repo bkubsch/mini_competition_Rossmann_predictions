{
 "cells": [
  {
   "cell_type": "code",
   "execution_count": 1,
   "metadata": {},
   "outputs": [],
   "source": [
    "import pandas as pd\n",
    "import numpy as np\n",
    "import seaborn as sns\n",
    "import matplotlib\n",
    "import matplotlib.pyplot as plt\n",
    "\n",
    "sns.set(rc={'figure.figsize':(14.7,8.27)})"
   ]
  },
  {
   "cell_type": "code",
   "execution_count": 2,
   "metadata": {},
   "outputs": [],
   "source": [
    "store = pd.read_csv(\n",
    "    \"data/store.csv\"\n",
    ")\n",
    "new_train = pd.read_csv(\"data/new_train.csv\",index_col=0, dtype={\"StateHoliday\": object})\n",
    "data = store.merge(new_train,on=\"Store\")\n",
    "data[\"Date\"] = pd.to_datetime(data[\"Date\"])\n",
    "data[\"CompetitionDistance\"].fillna(-1, inplace=True)\n",
    "\n",
    "data[\"HasCompetition\"] = np.where(data[\"CompetitionOpenSinceMonth\"] >= 0, 1, 0)"
   ]
  },
  {
   "cell_type": "code",
   "execution_count": 3,
   "metadata": {},
   "outputs": [
    {
     "name": "stdout",
     "output_type": "stream",
     "text": [
      "<class 'pandas.core.frame.DataFrame'>\n",
      "Int64Index: 864627 entries, 0 to 864626\n",
      "Data columns (total 19 columns):\n",
      "Store                        864627 non-null int64\n",
      "StoreType                    864627 non-null object\n",
      "Assortment                   864627 non-null object\n",
      "CompetitionDistance          864627 non-null float64\n",
      "CompetitionOpenSinceMonth    589729 non-null float64\n",
      "CompetitionOpenSinceYear     589729 non-null float64\n",
      "Promo2                       864627 non-null int64\n",
      "Promo2SinceWeek              431040 non-null float64\n",
      "Promo2SinceYear              431040 non-null float64\n",
      "PromoInterval                431040 non-null object\n",
      "DayOfWeek                    864627 non-null int64\n",
      "Date                         864627 non-null datetime64[ns]\n",
      "Sales                        864627 non-null int64\n",
      "Customers                    864627 non-null int64\n",
      "Open                         864627 non-null int64\n",
      "Promo                        864627 non-null int64\n",
      "StateHoliday                 864627 non-null object\n",
      "SchoolHoliday                864627 non-null int64\n",
      "HasCompetition               864627 non-null int64\n",
      "dtypes: datetime64[ns](1), float64(5), int64(9), object(4)\n",
      "memory usage: 131.9+ MB\n"
     ]
    }
   ],
   "source": [
    "data.info()"
   ]
  },
  {
   "cell_type": "code",
   "execution_count": null,
   "metadata": {},
   "outputs": [],
   "source": []
  },
  {
   "cell_type": "code",
   "execution_count": 4,
   "metadata": {},
   "outputs": [],
   "source": [
    "int_cols = [\"CompetitionOpenSinceYear\", \"CompetitionOpenSinceMonth\", \"Promo2SinceYear\",\n",
    "            \"Promo2SinceWeek\", \n",
    "           ]\n",
    "data[int_cols] = data[int_cols].fillna(-1)\n",
    "data[int_cols] = data[int_cols].astype(int)"
   ]
  },
  {
   "cell_type": "code",
   "execution_count": 5,
   "metadata": {},
   "outputs": [
    {
     "data": {
      "text/html": [
       "<div>\n",
       "<style scoped>\n",
       "    .dataframe tbody tr th:only-of-type {\n",
       "        vertical-align: middle;\n",
       "    }\n",
       "\n",
       "    .dataframe tbody tr th {\n",
       "        vertical-align: top;\n",
       "    }\n",
       "\n",
       "    .dataframe thead th {\n",
       "        text-align: right;\n",
       "    }\n",
       "</style>\n",
       "<table border=\"1\" class=\"dataframe\">\n",
       "  <thead>\n",
       "    <tr style=\"text-align: right;\">\n",
       "      <th></th>\n",
       "      <th>CompetitionDistance</th>\n",
       "      <th>CompetitionOpenSinceMonth</th>\n",
       "      <th>CompetitionOpenSinceYear</th>\n",
       "      <th>Promo2</th>\n",
       "      <th>Promo2SinceWeek</th>\n",
       "      <th>Promo2SinceYear</th>\n",
       "      <th>DayOfWeek</th>\n",
       "      <th>Sales</th>\n",
       "      <th>Customers</th>\n",
       "      <th>Open</th>\n",
       "      <th>Promo</th>\n",
       "      <th>SchoolHoliday</th>\n",
       "      <th>HasCompetition</th>\n",
       "    </tr>\n",
       "    <tr>\n",
       "      <th>Store</th>\n",
       "      <th></th>\n",
       "      <th></th>\n",
       "      <th></th>\n",
       "      <th></th>\n",
       "      <th></th>\n",
       "      <th></th>\n",
       "      <th></th>\n",
       "      <th></th>\n",
       "      <th></th>\n",
       "      <th></th>\n",
       "      <th></th>\n",
       "      <th></th>\n",
       "      <th></th>\n",
       "    </tr>\n",
       "  </thead>\n",
       "  <tbody>\n",
       "    <tr>\n",
       "      <th>262</th>\n",
       "      <td>1180.0</td>\n",
       "      <td>5.0</td>\n",
       "      <td>2013.0</td>\n",
       "      <td>0.0</td>\n",
       "      <td>-1.0</td>\n",
       "      <td>-1.0</td>\n",
       "      <td>4.0</td>\n",
       "      <td>20771.417391</td>\n",
       "      <td>3407.146584</td>\n",
       "      <td>1.000000</td>\n",
       "      <td>0.378882</td>\n",
       "      <td>0.182609</td>\n",
       "      <td>1.0</td>\n",
       "    </tr>\n",
       "    <tr>\n",
       "      <th>562</th>\n",
       "      <td>1210.0</td>\n",
       "      <td>-1.0</td>\n",
       "      <td>-1.0</td>\n",
       "      <td>0.0</td>\n",
       "      <td>-1.0</td>\n",
       "      <td>-1.0</td>\n",
       "      <td>4.0</td>\n",
       "      <td>18006.562733</td>\n",
       "      <td>3104.188820</td>\n",
       "      <td>1.000000</td>\n",
       "      <td>0.378882</td>\n",
       "      <td>0.233540</td>\n",
       "      <td>0.0</td>\n",
       "    </tr>\n",
       "    <tr>\n",
       "      <th>817</th>\n",
       "      <td>140.0</td>\n",
       "      <td>3.0</td>\n",
       "      <td>2006.0</td>\n",
       "      <td>0.0</td>\n",
       "      <td>-1.0</td>\n",
       "      <td>-1.0</td>\n",
       "      <td>4.0</td>\n",
       "      <td>17789.629814</td>\n",
       "      <td>2557.583851</td>\n",
       "      <td>0.833540</td>\n",
       "      <td>0.378882</td>\n",
       "      <td>0.190062</td>\n",
       "      <td>1.0</td>\n",
       "    </tr>\n",
       "    <tr>\n",
       "      <th>1114</th>\n",
       "      <td>870.0</td>\n",
       "      <td>-1.0</td>\n",
       "      <td>-1.0</td>\n",
       "      <td>0.0</td>\n",
       "      <td>-1.0</td>\n",
       "      <td>-1.0</td>\n",
       "      <td>4.0</td>\n",
       "      <td>17394.627329</td>\n",
       "      <td>2695.827329</td>\n",
       "      <td>0.833540</td>\n",
       "      <td>0.378882</td>\n",
       "      <td>0.182609</td>\n",
       "      <td>0.0</td>\n",
       "    </tr>\n",
       "    <tr>\n",
       "      <th>251</th>\n",
       "      <td>340.0</td>\n",
       "      <td>-1.0</td>\n",
       "      <td>-1.0</td>\n",
       "      <td>0.0</td>\n",
       "      <td>-1.0</td>\n",
       "      <td>-1.0</td>\n",
       "      <td>4.0</td>\n",
       "      <td>15797.045963</td>\n",
       "      <td>2031.773913</td>\n",
       "      <td>0.827329</td>\n",
       "      <td>0.378882</td>\n",
       "      <td>0.193789</td>\n",
       "      <td>0.0</td>\n",
       "    </tr>\n",
       "  </tbody>\n",
       "</table>\n",
       "</div>"
      ],
      "text/plain": [
       "       CompetitionDistance  CompetitionOpenSinceMonth  \\\n",
       "Store                                                   \n",
       "262                 1180.0                        5.0   \n",
       "562                 1210.0                       -1.0   \n",
       "817                  140.0                        3.0   \n",
       "1114                 870.0                       -1.0   \n",
       "251                  340.0                       -1.0   \n",
       "\n",
       "       CompetitionOpenSinceYear  Promo2  Promo2SinceWeek  Promo2SinceYear  \\\n",
       "Store                                                                       \n",
       "262                      2013.0     0.0             -1.0             -1.0   \n",
       "562                        -1.0     0.0             -1.0             -1.0   \n",
       "817                      2006.0     0.0             -1.0             -1.0   \n",
       "1114                       -1.0     0.0             -1.0             -1.0   \n",
       "251                        -1.0     0.0             -1.0             -1.0   \n",
       "\n",
       "       DayOfWeek         Sales    Customers      Open     Promo  \\\n",
       "Store                                                             \n",
       "262          4.0  20771.417391  3407.146584  1.000000  0.378882   \n",
       "562          4.0  18006.562733  3104.188820  1.000000  0.378882   \n",
       "817          4.0  17789.629814  2557.583851  0.833540  0.378882   \n",
       "1114         4.0  17394.627329  2695.827329  0.833540  0.378882   \n",
       "251          4.0  15797.045963  2031.773913  0.827329  0.378882   \n",
       "\n",
       "       SchoolHoliday  HasCompetition  \n",
       "Store                                 \n",
       "262         0.182609             1.0  \n",
       "562         0.233540             0.0  \n",
       "817         0.190062             1.0  \n",
       "1114        0.182609             0.0  \n",
       "251         0.193789             0.0  "
      ]
     },
     "execution_count": 5,
     "metadata": {},
     "output_type": "execute_result"
    }
   ],
   "source": [
    "data.groupby(\"Store\").mean().sort_values(by=\"Sales\", ascending=False).head()\n",
    "\n",
    "# Open/Closed -> high\n",
    "# DayOfWeek -> medium\n",
    "# Holiday -> medium\n",
    "# Store -> high"
   ]
  },
  {
   "cell_type": "code",
   "execution_count": 6,
   "metadata": {},
   "outputs": [],
   "source": [
    "from sklearn.model_selection import train_test_split\n",
    "\n",
    "data = pd.get_dummies(data)\n",
    "\n",
    "X=data.drop([\"Sales\",\"Date\"], axis=1)\n",
    "y=data[\"Sales\"]\n",
    "X_train, X_test, y_train, y_test = train_test_split(X, y, test_size=0.3) # 70% training and 30% test"
   ]
  },
  {
   "cell_type": "code",
   "execution_count": 7,
   "metadata": {},
   "outputs": [],
   "source": [
    "from sklearn.tree import DecisionTreeClassifier"
   ]
  },
  {
   "cell_type": "code",
   "execution_count": 8,
   "metadata": {},
   "outputs": [],
   "source": [
    "dtree = DecisionTreeClassifier()"
   ]
  },
  {
   "cell_type": "code",
   "execution_count": 9,
   "metadata": {},
   "outputs": [
    {
     "ename": "MemoryError",
     "evalue": "could not allocate 20989345792 bytes",
     "output_type": "error",
     "traceback": [
      "\u001b[0;31m---------------------------------------------------------------------------\u001b[0m",
      "\u001b[0;31mMemoryError\u001b[0m                               Traceback (most recent call last)",
      "\u001b[0;32m<ipython-input-9-16b736c34381>\u001b[0m in \u001b[0;36m<module>\u001b[0;34m\u001b[0m\n\u001b[0;32m----> 1\u001b[0;31m \u001b[0mdtree\u001b[0m\u001b[0;34m.\u001b[0m\u001b[0mfit\u001b[0m\u001b[0;34m(\u001b[0m\u001b[0mX_train\u001b[0m\u001b[0;34m,\u001b[0m \u001b[0my_train\u001b[0m\u001b[0;34m)\u001b[0m\u001b[0;34m\u001b[0m\u001b[0;34m\u001b[0m\u001b[0m\n\u001b[0m",
      "\u001b[0;32m~/anaconda3/lib/python3.7/site-packages/sklearn/tree/tree.py\u001b[0m in \u001b[0;36mfit\u001b[0;34m(self, X, y, sample_weight, check_input, X_idx_sorted)\u001b[0m\n\u001b[1;32m    799\u001b[0m             \u001b[0msample_weight\u001b[0m\u001b[0;34m=\u001b[0m\u001b[0msample_weight\u001b[0m\u001b[0;34m,\u001b[0m\u001b[0;34m\u001b[0m\u001b[0;34m\u001b[0m\u001b[0m\n\u001b[1;32m    800\u001b[0m             \u001b[0mcheck_input\u001b[0m\u001b[0;34m=\u001b[0m\u001b[0mcheck_input\u001b[0m\u001b[0;34m,\u001b[0m\u001b[0;34m\u001b[0m\u001b[0;34m\u001b[0m\u001b[0m\n\u001b[0;32m--> 801\u001b[0;31m             X_idx_sorted=X_idx_sorted)\n\u001b[0m\u001b[1;32m    802\u001b[0m         \u001b[0;32mreturn\u001b[0m \u001b[0mself\u001b[0m\u001b[0;34m\u001b[0m\u001b[0;34m\u001b[0m\u001b[0m\n\u001b[1;32m    803\u001b[0m \u001b[0;34m\u001b[0m\u001b[0m\n",
      "\u001b[0;32m~/anaconda3/lib/python3.7/site-packages/sklearn/tree/tree.py\u001b[0m in \u001b[0;36mfit\u001b[0;34m(self, X, y, sample_weight, check_input, X_idx_sorted)\u001b[0m\n\u001b[1;32m    364\u001b[0m                                            min_impurity_split)\n\u001b[1;32m    365\u001b[0m \u001b[0;34m\u001b[0m\u001b[0m\n\u001b[0;32m--> 366\u001b[0;31m         \u001b[0mbuilder\u001b[0m\u001b[0;34m.\u001b[0m\u001b[0mbuild\u001b[0m\u001b[0;34m(\u001b[0m\u001b[0mself\u001b[0m\u001b[0;34m.\u001b[0m\u001b[0mtree_\u001b[0m\u001b[0;34m,\u001b[0m \u001b[0mX\u001b[0m\u001b[0;34m,\u001b[0m \u001b[0my\u001b[0m\u001b[0;34m,\u001b[0m \u001b[0msample_weight\u001b[0m\u001b[0;34m,\u001b[0m \u001b[0mX_idx_sorted\u001b[0m\u001b[0;34m)\u001b[0m\u001b[0;34m\u001b[0m\u001b[0;34m\u001b[0m\u001b[0m\n\u001b[0m\u001b[1;32m    367\u001b[0m \u001b[0;34m\u001b[0m\u001b[0m\n\u001b[1;32m    368\u001b[0m         \u001b[0;32mif\u001b[0m \u001b[0mself\u001b[0m\u001b[0;34m.\u001b[0m\u001b[0mn_outputs_\u001b[0m \u001b[0;34m==\u001b[0m \u001b[0;36m1\u001b[0m\u001b[0;34m:\u001b[0m\u001b[0;34m\u001b[0m\u001b[0;34m\u001b[0m\u001b[0m\n",
      "\u001b[0;32msklearn/tree/_tree.pyx\u001b[0m in \u001b[0;36msklearn.tree._tree.DepthFirstTreeBuilder.build\u001b[0;34m()\u001b[0m\n",
      "\u001b[0;32msklearn/tree/_tree.pyx\u001b[0m in \u001b[0;36msklearn.tree._tree.DepthFirstTreeBuilder.build\u001b[0;34m()\u001b[0m\n",
      "\u001b[0;32msklearn/tree/_tree.pyx\u001b[0m in \u001b[0;36msklearn.tree._tree.Tree._add_node\u001b[0;34m()\u001b[0m\n",
      "\u001b[0;32msklearn/tree/_tree.pyx\u001b[0m in \u001b[0;36msklearn.tree._tree.Tree._resize_c\u001b[0;34m()\u001b[0m\n",
      "\u001b[0;32msklearn/tree/_utils.pyx\u001b[0m in \u001b[0;36msklearn.tree._utils.safe_realloc\u001b[0;34m()\u001b[0m\n",
      "\u001b[0;31mMemoryError\u001b[0m: could not allocate 20989345792 bytes"
     ]
    }
   ],
   "source": [
    "dtree.fit(X_train, y_train)\n"
   ]
  },
  {
   "cell_type": "code",
   "execution_count": 10,
   "metadata": {},
   "outputs": [
    {
     "data": {
      "text/plain": [
       "Store                             False\n",
       "CompetitionDistance               False\n",
       "CompetitionOpenSinceMonth         False\n",
       "CompetitionOpenSinceYear          False\n",
       "Promo2                            False\n",
       "Promo2SinceWeek                   False\n",
       "Promo2SinceYear                   False\n",
       "DayOfWeek                         False\n",
       "Date                              False\n",
       "Sales                             False\n",
       "Customers                         False\n",
       "Open                              False\n",
       "Promo                             False\n",
       "SchoolHoliday                     False\n",
       "HasCompetition                    False\n",
       "StoreType_a                       False\n",
       "StoreType_b                       False\n",
       "StoreType_c                       False\n",
       "StoreType_d                       False\n",
       "Assortment_a                      False\n",
       "Assortment_b                      False\n",
       "Assortment_c                      False\n",
       "PromoInterval_Feb,May,Aug,Nov     False\n",
       "PromoInterval_Jan,Apr,Jul,Oct     False\n",
       "PromoInterval_Mar,Jun,Sept,Dec    False\n",
       "StateHoliday_0                    False\n",
       "StateHoliday_a                    False\n",
       "StateHoliday_b                    False\n",
       "StateHoliday_c                    False\n",
       "dtype: bool"
      ]
     },
     "execution_count": 10,
     "metadata": {},
     "output_type": "execute_result"
    }
   ],
   "source": [
    "data.isna().any()"
   ]
  },
  {
   "cell_type": "code",
   "execution_count": null,
   "metadata": {},
   "outputs": [],
   "source": []
  }
 ],
 "metadata": {
  "kernelspec": {
   "display_name": "Python 3",
   "language": "python",
   "name": "python3"
  },
  "language_info": {
   "codemirror_mode": {
    "name": "ipython",
    "version": 3
   },
   "file_extension": ".py",
   "mimetype": "text/x-python",
   "name": "python",
   "nbconvert_exporter": "python",
   "pygments_lexer": "ipython3",
   "version": "3.7.1"
  }
 },
 "nbformat": 4,
 "nbformat_minor": 2
}
